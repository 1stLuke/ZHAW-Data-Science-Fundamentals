{
 "cells": [
  {
   "cell_type": "markdown",
   "metadata": {},
   "source": [
    "# <div align=\"center\"> DSF 2. Week: Python Basics"
   ]
  },
  {
   "cell_type": "markdown",
   "metadata": {},
   "source": [
    "In this exercise, you will learn some of the basics of Python.\n",
    "\n",
    "If you are already familiar with Python you can skim through the instruction and only focus on the small exercises at each section, and then go to the challenges at the end of the document.\n",
    "\n",
    "**Remember**, you have to run the cell (`Ctrl + Enter`) to see its output."
   ]
  },
  {
   "cell_type": "markdown",
   "metadata": {},
   "source": [
    "## Contents:\n",
    "1. **Hello world!**\n",
    "1. **Variables**\n",
    "1. **Operations**\n",
    "1. **Containers**\n",
    "1. **Conditionals**\n",
    "1. **Loops**\n",
    "1. **Functions**\n",
    "1. **Challenges**"
   ]
  },
  {
   "cell_type": "markdown",
   "metadata": {},
   "source": [
    "## 1. Hello World!\n",
    "Let's start by printing text! We can print almost anything. Below are examples with text and numbers."
   ]
  },
  {
   "cell_type": "code",
   "execution_count": null,
   "metadata": {},
   "outputs": [],
   "source": [
    "print(\"Hello World!\")\n",
    "print(5)\n",
    "print(5.1)\n",
    "print(True)\n",
    "print(25 * 2)"
   ]
  },
  {
   "cell_type": "markdown",
   "metadata": {},
   "source": [
    "Commas in the print function will insert spaces between the entries. This will be particularly useful when we want to print a variable with unknown value, or print many things of different data types."
   ]
  },
  {
   "cell_type": "code",
   "execution_count": null,
   "metadata": {},
   "outputs": [],
   "source": [
    "print(\"Give\", \"me\", \"some\", \"space.\")\n",
    "\n",
    "print(\"The current year is\", 2021)\n",
    "\n",
    "x = 5\n",
    "print(\"Jake is\", x, \"years old.\")"
   ]
  },
  {
   "cell_type": "markdown",
   "metadata": {},
   "source": [
    "```\\n``` gives a newline, and ```\\t``` gives a tab."
   ]
  },
  {
   "cell_type": "code",
   "execution_count": null,
   "metadata": {},
   "outputs": [],
   "source": [
    "print(\"This is the first line.\\nThis is the second line, with a \\t tab.\")"
   ]
  },
  {
   "cell_type": "markdown",
   "metadata": {},
   "source": [
    "**Exercise: Using only one print function, print your name, age and favorite ZHAW course on three different lines.**"
   ]
  },
  {
   "cell_type": "code",
   "execution_count": null,
   "metadata": {},
   "outputs": [],
   "source": [
    "# enter your code here!"
   ]
  },
  {
   "cell_type": "markdown",
   "metadata": {},
   "source": [
    "## 2. Variables\n",
    "### Declare and initialize?\n",
    "C++ is **statically typed** while Python is **dynamically typed**. This means that in C++, variable types are defined during compilation, while in Python they are defined during run-time.\n",
    "\n",
    "Because of this, in C++ you need to both *declare* a variable and its type, and then *initialize* it. In Python, you only need to initialize it. While types exist in Python, they are not written out when defining a variable."
   ]
  },
  {
   "cell_type": "code",
   "execution_count": null,
   "metadata": {},
   "outputs": [],
   "source": [
    "# defining an integer variable\n",
    "x = 10\n",
    "# defining a double variable\n",
    "y = 3.14\n",
    "# defining a string\n",
    "word = \"Epoch of Reionisation\"\n",
    "\n",
    "# printing the variables\n",
    "print(x)\n",
    "print(y)\n",
    "print(word)"
   ]
  },
  {
   "cell_type": "markdown",
   "metadata": {},
   "source": [
    "In the above example it's easy to see that x is an integer, y is a double, and word is a string. But if you are unsure you can always check the type of a variable using ```type(someVariable)```."
   ]
  },
  {
   "cell_type": "code",
   "execution_count": null,
   "metadata": {},
   "outputs": [],
   "source": [
    "print( type(x) )\n",
    "print( type(y) )\n",
    "print( type(word) )"
   ]
  },
  {
   "cell_type": "markdown",
   "metadata": {},
   "source": [
    "### Changing type dynamically\n",
    "A blessing and a curse of Python is that you can change the type of a variable on the fly. Be careful that you don't accidentally change the type of variables unless desired!"
   ]
  },
  {
   "cell_type": "code",
   "execution_count": null,
   "metadata": {},
   "outputs": [],
   "source": [
    "# define an integer\n",
    "z = 7\n",
    "# redefine it as a string\n",
    "z = \"Hello\"\n",
    "\n",
    "print(z)"
   ]
  },
  {
   "cell_type": "markdown",
   "metadata": {},
   "source": [
    "### Type conversion\n",
    "If you have the number 64 stored as a string, but want to use it in computation, you can **cast** the string to an integer. To cast a variable to a different type, simply \"wrap\" it inside the type name. You can cast variables that \"make sense\" to cast. For example, you can cast 13 to a string \"13\" but you can't cast \"hello world!\" to a double (what would that even mean?)."
   ]
  },
  {
   "cell_type": "code",
   "execution_count": null,
   "metadata": {
    "scrolled": false
   },
   "outputs": [],
   "source": [
    "x = \"64\"\n",
    "# Need to cast x to an integer otherwise you get an error because you can't add an 'int' with a 'string'\n",
    "print( 1 + int(x) )"
   ]
  },
  {
   "cell_type": "markdown",
   "metadata": {},
   "source": [
    "Here is a list of common casts:\n",
    "* Integer: ```int()```\n",
    "* Double/Float: ```float()```\n",
    "* String: ```str()```\n",
    "\n",
    "**Exercise: Create a variable holding a decimal number and cast it to an integer. What happens with the value?**"
   ]
  },
  {
   "cell_type": "code",
   "execution_count": null,
   "metadata": {},
   "outputs": [],
   "source": [
    "# enter your code here!"
   ]
  },
  {
   "cell_type": "markdown",
   "metadata": {},
   "source": [
    "## 3. Operations\n",
    "### Numerical\n",
    "Operations of numbers work similar to C++."
   ]
  },
  {
   "cell_type": "code",
   "execution_count": null,
   "metadata": {},
   "outputs": [],
   "source": [
    "# addition\n",
    "print(5 + 5)\n",
    "\n",
    "# subtraction\n",
    "print(10 - 20)\n",
    "\n",
    "# multiplication\n",
    "print(3 * 3)\n",
    "\n",
    "# division\n",
    "print(100 / 2)\n",
    "\n",
    "# integer division\n",
    "print(7 // 2)\n",
    "\n",
    "# remainder\n",
    "print(7 % 2)\n",
    "\n",
    "# power\n",
    "print(2**10)"
   ]
  },
  {
   "cell_type": "markdown",
   "metadata": {},
   "source": [
    "### Strings\n",
    "We can use ```+``` for strings to concatenate them."
   ]
  },
  {
   "cell_type": "code",
   "execution_count": null,
   "metadata": {},
   "outputs": [],
   "source": [
    "fake_language = \"Återvänd\" + \" till\" + \" apa.\"\n",
    "print(fake_language)"
   ]
  },
  {
   "cell_type": "markdown",
   "metadata": {},
   "source": [
    "### Operations with variables\n",
    "If a variable is an integer or float, then we can do operations like normal with them."
   ]
  },
  {
   "cell_type": "code",
   "execution_count": null,
   "metadata": {},
   "outputs": [],
   "source": [
    "x = 5\n",
    "y = x + 3\n",
    "z = y - x\n",
    "print(\"z =\", z)"
   ]
  },
  {
   "cell_type": "markdown",
   "metadata": {},
   "source": [
    "We can also use increment, decrement, and similar operators to update the value of a variable."
   ]
  },
  {
   "cell_type": "code",
   "execution_count": null,
   "metadata": {},
   "outputs": [],
   "source": [
    "x = 100\n",
    "\n",
    "# same as x = x + 1\n",
    "x += 1\n",
    "\n",
    "# same as x = x -1\n",
    "x -= 1\n",
    "\n",
    "# same as x = x * 5\n",
    "x *= 5\n",
    "\n",
    "# same as x = x / 10\n",
    "x /= 10\n",
    "\n",
    "# same as x // 3\n",
    "x //= 3\n",
    "\n",
    "# same as x = x % 6\n",
    "x %= 6\n",
    "\n",
    "# same as x = x**5\n",
    "x **= 5"
   ]
  },
  {
   "cell_type": "markdown",
   "metadata": {},
   "source": [
    "A very common use of this is to increment a variable by one: ```x += 1```"
   ]
  },
  {
   "cell_type": "markdown",
   "metadata": {},
   "source": [
    "## 4. Containers\n",
    "Variables like integers, floats and strings are good when we only have one value to keep track of. If we have multiple values we can use a container like:\n",
    "\n",
    "1. List\n",
    "1. Dictionary\n",
    "\n",
    "There are many more containers but today we will focus on these two.\n",
    "\n",
    "### Lists\n",
    "Lists are similar to arrays in C++, except that can change in size. Common operations on a list include:\n",
    "\n",
    "1. **Access single element** ```my_list[0]``` will retrieve the first element in the list.\n",
    "1. **Append to the list** ```my_list.append(\"ZHAW\")```\n",
    "1. **Delete items at between index a and b** ```del my_list[a:b]``` if you leave a empty, start from beginning to b, and vice versa.\n",
    "1. **Remove a certain element** ```my_list.remove(\"rabbit\")``` will remove \"rabbit\" if it exists in the list.\n",
    "1. **Sum over all values** ```sum(someList)```\n",
    "1. **Maximum/minimum value in the list** ```max(myList)``` or ```min(myList)```\n",
    "\n",
    "A list is created using ```[]```."
   ]
  },
  {
   "cell_type": "code",
   "execution_count": null,
   "metadata": {},
   "outputs": [],
   "source": [
    "# create a list with some integers\n",
    "years = [1997, 2000, 2002]\n",
    "\n",
    "# elements don't have to share datatype!\n",
    "some_list = [1, \"hello\", 2.7]\n",
    "\n",
    "# you can print lists\n",
    "print(\"Years:\",years)\n",
    "\n",
    "# print second element of a list and last element\n",
    "print(\"Second element of years\", years[1])\n",
    "print(\"Last element of years\", years[-1])\n",
    "\n",
    "# change the 1st element of a list\n",
    "years[0] = 1776\n",
    "\n",
    "# append to the list\n",
    "years.append(2025)\n",
    "\n",
    "# sum over all values\n",
    "sum_of_years = sum(years)\n",
    "\n",
    "# minimum year\n",
    "minimum = min(years)\n",
    "\n",
    "# remove an element\n",
    "years.remove(2000)\n",
    "\n",
    "# delete first element\n",
    "del years[0]\n",
    "\n",
    "# you can also create an empty list and then append stuff to it\n",
    "empty_list = []"
   ]
  },
  {
   "cell_type": "markdown",
   "metadata": {},
   "source": [
    "### Exercise: Create a list with your name (string), age (integer), height in meters (double), and favorite animal (string). After this, change the animal element to \"Penguin\"."
   ]
  },
  {
   "cell_type": "code",
   "execution_count": 6,
   "metadata": {},
   "outputs": [
    {
     "name": "stdout",
     "output_type": "stream",
     "text": [
      "['Lukas', 28, 1.79, 'Lion']\n",
      "['Lukas', 28, 1.79, 'Penguin']\n"
     ]
    }
   ],
   "source": [
    "# enter your code here!\n",
    "\n",
    "list = [\"Lukas\", 28, 1.79, \"Lion\"]\n",
    "print(list)\n",
    "list[3] = \"Penguin\"\n",
    "print(list)"
   ]
  },
  {
   "cell_type": "markdown",
   "metadata": {},
   "source": [
    "### Dictionaries\n",
    "The basic idea is that the **value** of the elements in the container is tied to a **key**. To access a value in a dictionary, we use the key, not the position like in a list. This is very useful when we want to access a certain value given some other value, like a list of students and their grades. \n",
    "\n",
    "A dictionary is created using ```{}```.\n",
    "\n",
    "The keys and values can be any datatype, and they don't need to be the same datatype."
   ]
  },
  {
   "cell_type": "code",
   "execution_count": null,
   "metadata": {},
   "outputs": [],
   "source": [
    "# A dictionary initiliazed with keys and values: Keys are names, values are grades\n",
    "grades = {\"Axel\": 4.0, \"Albert\": 5.5, \"Michael\": 6.0}\n",
    "print(grades)\n",
    "\n",
    "# access the value via the key\n",
    "print(\"Grade of Axel\", grades[\"Axel\"])\n",
    "\n",
    "# I can change the value as well\n",
    "grades[\"Axel\"] = 6.0\n",
    "print(grades)\n",
    "\n",
    "# I can also add a completely new person to the dictionary\n",
    "grades[\"Kenyan Drake\"] = 5.0\n",
    "print(grades)\n",
    "\n",
    "# Create an empty dictionary\n",
    "empty_dictionary = {}"
   ]
  },
  {
   "cell_type": "markdown",
   "metadata": {},
   "source": [
    "**Exercise: Create a dictionary with keys \"year\", \"month\" and \"day\" and initialize values to today's date. Then, increment the day by 1.**"
   ]
  },
  {
   "cell_type": "code",
   "execution_count": 9,
   "metadata": {},
   "outputs": [
    {
     "name": "stdout",
     "output_type": "stream",
     "text": [
      "{'year': 2023, 'month': 9, 'day': 26}\n",
      "{'year': 2023, 'month': 9, 'day': 27}\n"
     ]
    }
   ],
   "source": [
    "# enter your code here!\n",
    "my_dictionary = {\"year\": 2023, \"month\": 9, \"day\": 26}\n",
    "print(my_dictionary)\n",
    "my_dictionary[\"day\"] = 27\n",
    "print(my_dictionary)"
   ]
  },
  {
   "cell_type": "markdown",
   "metadata": {},
   "source": [
    "## 5. Conditionals\n",
    "### if, elif, else\n",
    "The syntax for if-else statements is very simple. **However**, notice that unlike C++, there are no brackets enclosing the block of code belonging to the if-statement! Instead, there is only indentation. This is true in general and not only for if-statements. **In Python, indentation plays the role of brackets. Make sure your indentations are aligned properly so that code belonging to the same block doesn't end up in the wrong block.** The if-statement ends when at the first line of **unindented** code."
   ]
  },
  {
   "cell_type": "code",
   "execution_count": null,
   "metadata": {
    "scrolled": true
   },
   "outputs": [],
   "source": [
    "x = 5\n",
    "\n",
    "# if\n",
    "if x == 10:\n",
    "    print(\"You will only see this if x was 10\")\n",
    "\n",
    "    \n",
    "# if else\n",
    "if x > 0:\n",
    "    print(\"You will only see this if x is positive\")\n",
    "else:\n",
    "    print(\"You will only see this if x is zero or negative\")\n",
    "    \n",
    "# if, else if, and else\n",
    "if x > 100:\n",
    "    print(\"x is over 100\")\n",
    "elif x == 5:\n",
    "    print(\"x is 5\")\n",
    "else:\n",
    "    print(\"x is neither 5 nor over 100\")"
   ]
  },
  {
   "cell_type": "markdown",
   "metadata": {},
   "source": [
    "### Operations valid in conditionals\n",
    "Below is a table with operations that can be used in conditionals.\n",
    "\n",
    "| **Symbol** | **Operation** | **Example (Value)** |\n",
    "|----:|---------------:|-----------:\n",
    "| == | is equal to | 5 == 5 (True) |\n",
    "| **is** | is equal to (NOTE: single = is assignment, double == is 'equal to') |\n",
    "| < | less than | |\n",
    "| >= | greater or equal than | |\n",
    "| <= | less or equal than | |\n",
    "| **or** | logical OR | True or False (True) |\n",
    "| **and** | logical AND | True and False (False) |\n",
    "| **in** | checks whether something is inside a container | \"james\" in list_of_names (True if James is in the list of names) |"
   ]
  },
  {
   "cell_type": "markdown",
   "metadata": {},
   "source": [
    "Below is an example of ```and``` and ```or```."
   ]
  },
  {
   "cell_type": "code",
   "execution_count": null,
   "metadata": {},
   "outputs": [],
   "source": [
    "this = True\n",
    "that = False\n",
    "\n",
    "print(\"What is the truth value for this/that?\")\n",
    "if this and that:\n",
    "    print(\"both are true\")\n",
    "elif this or that:\n",
    "    print(\"one is true\")\n",
    "else:\n",
    "    print(\"neither are true\")\n",
    "\n",
    "print(\"\\nIs 'apple' in the fruit list?\", \"apple\" in fruits)"
   ]
  },
  {
   "cell_type": "markdown",
   "metadata": {},
   "source": [
    "### Exercise: Define a variable x = 3038 write a conditional that will print whether x is divisible by 7 or not"
   ]
  },
  {
   "cell_type": "code",
   "execution_count": 15,
   "metadata": {},
   "outputs": [
    {
     "name": "stdout",
     "output_type": "stream",
     "text": [
      "true\n"
     ]
    }
   ],
   "source": [
    "# enter your code here\n",
    "x = 3038\n",
    "if x%7 == 0:\n",
    "    print(\"true\")\n",
    "else:\n",
    "    print(\"No, unfortunately not!\")"
   ]
  },
  {
   "cell_type": "markdown",
   "metadata": {},
   "source": [
    "## 6. Loops\n",
    "There are two types of loops in Python: ```for``` and ```while```. Use the For loop when you know how many times you want to iterate the loop. Use the While loop when you don't know how many times you want to iterate the loop.\n",
    "\n",
    "In C++ you use brackets {} to indicate the block of code belonging to a loop. In Python we use **indentation**."
   ]
  },
  {
   "cell_type": "markdown",
   "metadata": {},
   "source": [
    "### For loops\n",
    "In Python For loops iterate over elements in a sequence (either a list, a tuple, a dictionary, a set, or a string). Unlike C++, you do not need to define an incrementing indexing variable (such as ```i```)."
   ]
  },
  {
   "cell_type": "code",
   "execution_count": null,
   "metadata": {},
   "outputs": [],
   "source": [
    "# create a list\n",
    "fruits = [\"apple\", \"banana\", \"feijoa\"]\n",
    "\n",
    "# iterate through the items of the list and print them\n",
    "for f in fruits:\n",
    "    print(f)"
   ]
  },
  {
   "cell_type": "markdown",
   "metadata": {},
   "source": [
    "When iterating through dictionaries, your iterator will be the keys of the dictionary."
   ]
  },
  {
   "cell_type": "code",
   "execution_count": 16,
   "metadata": {},
   "outputs": [
    {
     "name": "stdout",
     "output_type": "stream",
     "text": [
      "Key: Hanna Value: 4\n",
      "Key: Markus Value: 3\n",
      "Key: Amat Value: 5\n"
     ]
    }
   ],
   "source": [
    "# create a dictionary\n",
    "scores = {\"Hanna\": 4, \"Markus\": 3, \"Amat\": 5}\n",
    "\n",
    "# iterate through its keys\n",
    "for key in scores:\n",
    "    print(\"Key:\", key, \"Value:\", scores[key])"
   ]
  },
  {
   "cell_type": "markdown",
   "metadata": {},
   "source": [
    "To iterate through two containers at once, use the ```zip()``` function."
   ]
  },
  {
   "cell_type": "code",
   "execution_count": null,
   "metadata": {},
   "outputs": [],
   "source": [
    "cities = [\"Chicago\", \"London\", \"Zuerich\"]\n",
    "countries = [\"USA\", \"England\", \"Switzerland\"]\n",
    "\n",
    "for city, country in zip(cities, countries):\n",
    "    print(city, \"is in\", country)"
   ]
  },
  {
   "cell_type": "markdown",
   "metadata": {},
   "source": [
    "### Exercise: Increment each value in the car brand dictionary by 1 using a for loop"
   ]
  },
  {
   "cell_type": "code",
   "execution_count": 22,
   "metadata": {},
   "outputs": [
    {
     "name": "stdout",
     "output_type": "stream",
     "text": [
      "{'honda': 1, 'volvo': 5, 'saab': 14}\n",
      "{'honda': 1, 'volvo': 6, 'saab': 14}\n",
      "{'honda': 1, 'volvo': 6, 'saab': 15}\n"
     ]
    }
   ],
   "source": [
    "# the dictionary\n",
    "my_dictionary = {\"honda\": 0, \"volvo\": 5, \"saab\": 14}\n",
    "\n",
    "# enter your code here to increment each car brand by 1\n",
    "for i in my_dictionary:\n",
    "    my_dictionary[i] += 1\n",
    "    print(my_dictionary)\n"
   ]
  },
  {
   "cell_type": "markdown",
   "metadata": {},
   "source": [
    "### Using range() to get indexing variable\n",
    "If we *do* want an incrementing indexing variable we will use the ```range()``` function, which creates a sequence of numbers to iterate through. By default, ```range(x)``` will contain 0 to x-1 in integer steps. We can also add more parameters to define *start, stop, step size*: ```range(start, stop, step)```. Note that *start* is inclusive, while *stop* is not. *Step* can either be positive or negative, but needs to be integer.\n",
    "\n",
    "It's common to combine ```range()``` and ```len()``` to iterate through the indices of a container."
   ]
  },
  {
   "cell_type": "code",
   "execution_count": null,
   "metadata": {},
   "outputs": [],
   "source": [
    "# iterate i from 0 to 9\n",
    "for i in range(10):\n",
    "    print(i)"
   ]
  },
  {
   "cell_type": "code",
   "execution_count": null,
   "metadata": {},
   "outputs": [],
   "source": [
    "# using an index to iterate through the fruit list\n",
    "for i in range(len(fruits)):\n",
    "    print(fruits[i], \"is at position number\", i, \"in the list.\")"
   ]
  },
  {
   "cell_type": "code",
   "execution_count": null,
   "metadata": {},
   "outputs": [],
   "source": [
    "# iterate from 10 to 50 in steps of 5\n",
    "for i in range(10,50,5):\n",
    "    print(i)"
   ]
  },
  {
   "cell_type": "markdown",
   "metadata": {},
   "source": [
    "### Exercise: Print all integers from 100 to 80 backwards in steps of 2"
   ]
  },
  {
   "cell_type": "code",
   "execution_count": 23,
   "metadata": {},
   "outputs": [
    {
     "name": "stdout",
     "output_type": "stream",
     "text": [
      "100\n",
      "98\n",
      "96\n",
      "94\n",
      "92\n",
      "90\n",
      "88\n",
      "86\n",
      "84\n",
      "82\n"
     ]
    }
   ],
   "source": [
    "# enter your code here\n",
    "for i in range(100,80,-2):\n",
    "    print(i)"
   ]
  },
  {
   "cell_type": "markdown",
   "metadata": {},
   "source": [
    "### While loops\n",
    "```while(condition)``` loops will keep iterating until the given condition is no longer true. For example, ```while(x < 5)``` will keep executing its block of code until x is NOT less than 5.\n",
    "\n",
    "The condition is checked before each time the block in the loop is run."
   ]
  },
  {
   "cell_type": "code",
   "execution_count": null,
   "metadata": {},
   "outputs": [],
   "source": [
    "x = 0\n",
    "\n",
    "while(x < 5):\n",
    "    print(\"inside the loop, and x is\", x)\n",
    "    # increment x\n",
    "    x += 1\n",
    "print(\"outside the loop, and x is\",x)"
   ]
  },
  {
   "cell_type": "markdown",
   "metadata": {},
   "source": [
    "A simple use of a while loop is to check that user input satisfies certain criteria. A for loop would not be very suitable for this, since we don't know how many tries it would take before the user gets it correctly.\n",
    "\n",
    "Below is an example of entering the correct name for a roman emperor. *Note that if you get it correctly the first try, you will not even enter the loop!*\n",
    "\n",
    "The ```input(\"some message\")``` function will prompt the user for an input in the console, and then return that input as its return value."
   ]
  },
  {
   "cell_type": "code",
   "execution_count": null,
   "metadata": {},
   "outputs": [],
   "source": [
    "emperor_name = input(\"Please enter the name of the Roman Emperor ruling between 27 BC - AD 14: \")\n",
    "while(emperor_name != \"Augustus Caesar\"):\n",
    "    emperor_name = input(\"Wrong name, please try again: \")\n",
    "print(\"That is correct!\")"
   ]
  },
  {
   "cell_type": "markdown",
   "metadata": {},
   "source": [
    "### Avoiding infinite loops\n",
    "When you write a while loop, you *NEED* to make sure that the loop has an **exit condition**. If there is no chance for the condition to be false, then you will have an infinite loop, and the rest of your code will not run. For example, ```while(True): doSomething()``` would run infinitely since True is never False (duh)."
   ]
  },
  {
   "cell_type": "markdown",
   "metadata": {},
   "source": [
    "### Exercise: Create a variable x = 2 and create a while loop with condition x <= 1024. In the loop, update x by squaring it. Count how many times the loop runs before exiting.\n",
    "\n",
    "**Hint:** Use a variable i to keep track of how many times the loop has executed."
   ]
  },
  {
   "cell_type": "code",
   "execution_count": 3,
   "metadata": {},
   "outputs": [
    {
     "name": "stdout",
     "output_type": "stream",
     "text": [
      "65536\n",
      "4\n"
     ]
    }
   ],
   "source": [
    "# enter your code here!\n",
    "x = 2\n",
    "i = 0\n",
    "while (x <= 1024):\n",
    "    x = x**2\n",
    "    i += 1\n",
    "print(x)\n",
    "print(i)"
   ]
  },
  {
   "cell_type": "markdown",
   "metadata": {},
   "source": [
    "## 7. Functions"
   ]
  },
  {
   "cell_type": "markdown",
   "metadata": {},
   "source": [
    "In the class saw all the main elements composing a function. Let's see an example of it."
   ]
  },
  {
   "cell_type": "code",
   "execution_count": null,
   "metadata": {},
   "outputs": [],
   "source": [
    "def my_function(param1, param2 = 3):\n",
    "    if param1 == param2: \n",
    "        print(\"The 2 parameters have the same value\")\n",
    "        return None\n",
    "    else: \n",
    "        summe = param1 + param2\n",
    "        print(summe)\n",
    "        return summe"
   ]
  },
  {
   "cell_type": "code",
   "execution_count": null,
   "metadata": {},
   "outputs": [],
   "source": [
    "my_function(1)\n",
    "my_function(1.4, 5.6)\n",
    "my_function(3)\n",
    "my_function(3,3)\n"
   ]
  },
  {
   "cell_type": "markdown",
   "metadata": {},
   "source": [
    "### Exercise: Define your own function which accepts 1 string input (default being \"Annina\"). If the string ends with letter \"a\" or \"e\", function will print \"Dear Mrs\" and the input, otherwise will print \"Dear Mr\" and the input. Return the number of letters in the input. "
   ]
  },
  {
   "cell_type": "code",
   "execution_count": 7,
   "metadata": {},
   "outputs": [
    {
     "name": "stdout",
     "output_type": "stream",
     "text": [
      "Dear Mr Ardon\n"
     ]
    }
   ],
   "source": [
    "# enter your code here!\n",
    "def function1 (string1 = \"Annina\"):\n",
    "    if(string1.endswith('a') or string1.endswith('e')):\n",
    "        print(\"Dear Mrs \" + string1)\n",
    "    else:\n",
    "        print(\"Dear Mr \" + string1)\n",
    "\n",
    "\n",
    "function1(\"Ardon\")\n"
   ]
  },
  {
   "cell_type": "markdown",
   "metadata": {},
   "source": [
    "## 8. Challenges\n",
    "\n",
    "#### 1. Print all numbers between 0-99 divisible by 7"
   ]
  },
  {
   "cell_type": "code",
   "execution_count": 8,
   "metadata": {},
   "outputs": [
    {
     "name": "stdout",
     "output_type": "stream",
     "text": [
      "7\n",
      "14\n",
      "21\n",
      "28\n",
      "35\n",
      "42\n",
      "49\n",
      "56\n",
      "63\n",
      "70\n",
      "77\n",
      "84\n",
      "91\n",
      "98\n"
     ]
    }
   ],
   "source": [
    "# enter your code here\n",
    "for i in range (1, 99):\n",
    "    if(i % 7 == 0):\n",
    "        print(i)"
   ]
  },
  {
   "cell_type": "markdown",
   "metadata": {},
   "source": [
    "#### 2. Roll a dice 1000 times and store the results in a dictionary\n",
    "Use the following code to simulate a dice roll. To ask for user's input, use input() https://www.w3schools.com/python/ref_func_input.asp)"
   ]
  },
  {
   "cell_type": "code",
   "execution_count": 2,
   "metadata": {},
   "outputs": [
    {
     "name": "stdout",
     "output_type": "stream",
     "text": [
      "5\n"
     ]
    }
   ],
   "source": [
    "from random import randint as dice\n",
    "\n",
    "# call dice(1,6) to get a random number between 1 and 6 (inclusive)\n",
    "x = dice(1,6)\n",
    "print(x)"
   ]
  },
  {
   "cell_type": "markdown",
   "metadata": {},
   "source": [
    "**HINTS**\n",
    "* What should the keys and the values be of the dictionary?\n",
    "* Print the dictionary, does the distribution make sense?\n"
   ]
  },
  {
   "cell_type": "code",
   "execution_count": 5,
   "metadata": {},
   "outputs": [
    {
     "name": "stdout",
     "output_type": "stream",
     "text": [
      "{'value': 0, '1. roll': 4, '2. roll': 1, '3. roll': 4, '4. roll': 3, '5. roll': 2, '6. roll': 3, '7. roll': 4, '8. roll': 3, '9. roll': 4, '10. roll': 6, '11. roll': 1, '12. roll': 3, '13. roll': 2, '14. roll': 5, '15. roll': 1, '16. roll': 4, '17. roll': 1, '18. roll': 2, '19. roll': 1, '20. roll': 1, '21. roll': 5, '22. roll': 2, '23. roll': 3, '24. roll': 2, '25. roll': 3, '26. roll': 6, '27. roll': 5, '28. roll': 3, '29. roll': 5, '30. roll': 6, '31. roll': 1, '32. roll': 3, '33. roll': 4, '34. roll': 2, '35. roll': 1, '36. roll': 6, '37. roll': 5, '38. roll': 2, '39. roll': 6, '40. roll': 1, '41. roll': 4, '42. roll': 5, '43. roll': 4, '44. roll': 4, '45. roll': 6, '46. roll': 5, '47. roll': 2, '48. roll': 2, '49. roll': 5, '50. roll': 2, '51. roll': 3, '52. roll': 6, '53. roll': 2, '54. roll': 3, '55. roll': 5, '56. roll': 2, '57. roll': 6, '58. roll': 5, '59. roll': 6, '60. roll': 6, '61. roll': 5, '62. roll': 6, '63. roll': 3, '64. roll': 6, '65. roll': 1, '66. roll': 6, '67. roll': 1, '68. roll': 6, '69. roll': 2, '70. roll': 1, '71. roll': 6, '72. roll': 5, '73. roll': 5, '74. roll': 2, '75. roll': 4, '76. roll': 4, '77. roll': 4, '78. roll': 4, '79. roll': 6, '80. roll': 6, '81. roll': 5, '82. roll': 5, '83. roll': 3, '84. roll': 3, '85. roll': 6, '86. roll': 5, '87. roll': 2, '88. roll': 1, '89. roll': 6, '90. roll': 2, '91. roll': 5, '92. roll': 4, '93. roll': 4, '94. roll': 6, '95. roll': 5, '96. roll': 6, '97. roll': 5, '98. roll': 4, '99. roll': 2, '100. roll': 5, '101. roll': 2, '102. roll': 4, '103. roll': 4, '104. roll': 6, '105. roll': 5, '106. roll': 1, '107. roll': 6, '108. roll': 3, '109. roll': 5, '110. roll': 6, '111. roll': 3, '112. roll': 1, '113. roll': 2, '114. roll': 2, '115. roll': 6, '116. roll': 2, '117. roll': 2, '118. roll': 4, '119. roll': 6, '120. roll': 2, '121. roll': 1, '122. roll': 2, '123. roll': 2, '124. roll': 6, '125. roll': 2, '126. roll': 5, '127. roll': 4, '128. roll': 6, '129. roll': 3, '130. roll': 3, '131. roll': 5, '132. roll': 5, '133. roll': 2, '134. roll': 5, '135. roll': 2, '136. roll': 3, '137. roll': 5, '138. roll': 2, '139. roll': 1, '140. roll': 5, '141. roll': 1, '142. roll': 1, '143. roll': 6, '144. roll': 5, '145. roll': 3, '146. roll': 3, '147. roll': 5, '148. roll': 4, '149. roll': 4, '150. roll': 5, '151. roll': 2, '152. roll': 1, '153. roll': 6, '154. roll': 1, '155. roll': 2, '156. roll': 1, '157. roll': 1, '158. roll': 1, '159. roll': 5, '160. roll': 4, '161. roll': 4, '162. roll': 3, '163. roll': 2, '164. roll': 1, '165. roll': 2, '166. roll': 1, '167. roll': 5, '168. roll': 5, '169. roll': 1, '170. roll': 1, '171. roll': 2, '172. roll': 1, '173. roll': 4, '174. roll': 3, '175. roll': 1, '176. roll': 5, '177. roll': 5, '178. roll': 2, '179. roll': 1, '180. roll': 4, '181. roll': 4, '182. roll': 1, '183. roll': 6, '184. roll': 2, '185. roll': 2, '186. roll': 1, '187. roll': 3, '188. roll': 1, '189. roll': 3, '190. roll': 6, '191. roll': 6, '192. roll': 6, '193. roll': 5, '194. roll': 2, '195. roll': 1, '196. roll': 5, '197. roll': 3, '198. roll': 2, '199. roll': 6, '200. roll': 4, '201. roll': 4, '202. roll': 4, '203. roll': 3, '204. roll': 5, '205. roll': 6, '206. roll': 1, '207. roll': 2, '208. roll': 4, '209. roll': 1, '210. roll': 1, '211. roll': 6, '212. roll': 3, '213. roll': 2, '214. roll': 3, '215. roll': 3, '216. roll': 1, '217. roll': 5, '218. roll': 6, '219. roll': 1, '220. roll': 1, '221. roll': 3, '222. roll': 5, '223. roll': 3, '224. roll': 3, '225. roll': 2, '226. roll': 6, '227. roll': 3, '228. roll': 1, '229. roll': 5, '230. roll': 5, '231. roll': 2, '232. roll': 1, '233. roll': 1, '234. roll': 2, '235. roll': 6, '236. roll': 2, '237. roll': 4, '238. roll': 2, '239. roll': 6, '240. roll': 3, '241. roll': 6, '242. roll': 5, '243. roll': 2, '244. roll': 6, '245. roll': 1, '246. roll': 1, '247. roll': 2, '248. roll': 6, '249. roll': 6, '250. roll': 2, '251. roll': 3, '252. roll': 6, '253. roll': 3, '254. roll': 4, '255. roll': 4, '256. roll': 1, '257. roll': 5, '258. roll': 3, '259. roll': 6, '260. roll': 6, '261. roll': 5, '262. roll': 5, '263. roll': 2, '264. roll': 2, '265. roll': 6, '266. roll': 5, '267. roll': 3, '268. roll': 2, '269. roll': 5, '270. roll': 6, '271. roll': 1, '272. roll': 1, '273. roll': 3, '274. roll': 1, '275. roll': 3, '276. roll': 5, '277. roll': 1, '278. roll': 6, '279. roll': 6, '280. roll': 4, '281. roll': 4, '282. roll': 3, '283. roll': 2, '284. roll': 4, '285. roll': 6, '286. roll': 4, '287. roll': 5, '288. roll': 4, '289. roll': 1, '290. roll': 5, '291. roll': 3, '292. roll': 4, '293. roll': 3, '294. roll': 6, '295. roll': 6, '296. roll': 5, '297. roll': 5, '298. roll': 5, '299. roll': 1, '300. roll': 3, '301. roll': 3, '302. roll': 2, '303. roll': 2, '304. roll': 2, '305. roll': 2, '306. roll': 5, '307. roll': 3, '308. roll': 1, '309. roll': 2, '310. roll': 4, '311. roll': 3, '312. roll': 5, '313. roll': 5, '314. roll': 6, '315. roll': 2, '316. roll': 1, '317. roll': 2, '318. roll': 2, '319. roll': 2, '320. roll': 4, '321. roll': 3, '322. roll': 5, '323. roll': 1, '324. roll': 5, '325. roll': 5, '326. roll': 4, '327. roll': 1, '328. roll': 6, '329. roll': 4, '330. roll': 6, '331. roll': 4, '332. roll': 3, '333. roll': 4, '334. roll': 1, '335. roll': 3, '336. roll': 4, '337. roll': 5, '338. roll': 4, '339. roll': 3, '340. roll': 1, '341. roll': 6, '342. roll': 4, '343. roll': 1, '344. roll': 5, '345. roll': 1, '346. roll': 6, '347. roll': 2, '348. roll': 4, '349. roll': 5, '350. roll': 4, '351. roll': 6, '352. roll': 4, '353. roll': 5, '354. roll': 2, '355. roll': 3, '356. roll': 3, '357. roll': 4, '358. roll': 1, '359. roll': 3, '360. roll': 6, '361. roll': 6, '362. roll': 6, '363. roll': 2, '364. roll': 5, '365. roll': 3, '366. roll': 4, '367. roll': 4, '368. roll': 3, '369. roll': 5, '370. roll': 4, '371. roll': 6, '372. roll': 5, '373. roll': 4, '374. roll': 6, '375. roll': 5, '376. roll': 3, '377. roll': 1, '378. roll': 1, '379. roll': 5, '380. roll': 4, '381. roll': 1, '382. roll': 3, '383. roll': 3, '384. roll': 6, '385. roll': 1, '386. roll': 4, '387. roll': 1, '388. roll': 5, '389. roll': 2, '390. roll': 3, '391. roll': 6, '392. roll': 2, '393. roll': 5, '394. roll': 3, '395. roll': 3, '396. roll': 1, '397. roll': 6, '398. roll': 5, '399. roll': 1, '400. roll': 3, '401. roll': 2, '402. roll': 6, '403. roll': 5, '404. roll': 6, '405. roll': 3, '406. roll': 6, '407. roll': 4, '408. roll': 1, '409. roll': 4, '410. roll': 4, '411. roll': 6, '412. roll': 3, '413. roll': 5, '414. roll': 5, '415. roll': 2, '416. roll': 6, '417. roll': 4, '418. roll': 6, '419. roll': 6, '420. roll': 3, '421. roll': 4, '422. roll': 5, '423. roll': 2, '424. roll': 3, '425. roll': 3, '426. roll': 6, '427. roll': 4, '428. roll': 6, '429. roll': 2, '430. roll': 4, '431. roll': 6, '432. roll': 2, '433. roll': 4, '434. roll': 1, '435. roll': 6, '436. roll': 2, '437. roll': 2, '438. roll': 5, '439. roll': 5, '440. roll': 5, '441. roll': 3, '442. roll': 2, '443. roll': 1, '444. roll': 2, '445. roll': 4, '446. roll': 6, '447. roll': 3, '448. roll': 3, '449. roll': 5, '450. roll': 6, '451. roll': 1, '452. roll': 5, '453. roll': 2, '454. roll': 3, '455. roll': 3, '456. roll': 1, '457. roll': 3, '458. roll': 2, '459. roll': 1, '460. roll': 4, '461. roll': 2, '462. roll': 6, '463. roll': 4, '464. roll': 1, '465. roll': 3, '466. roll': 5, '467. roll': 4, '468. roll': 1, '469. roll': 2, '470. roll': 4, '471. roll': 2, '472. roll': 1, '473. roll': 6, '474. roll': 6, '475. roll': 5, '476. roll': 4, '477. roll': 1, '478. roll': 2, '479. roll': 6, '480. roll': 2, '481. roll': 3, '482. roll': 1, '483. roll': 5, '484. roll': 6, '485. roll': 1, '486. roll': 2, '487. roll': 6, '488. roll': 1, '489. roll': 6, '490. roll': 6, '491. roll': 3, '492. roll': 6, '493. roll': 2, '494. roll': 2, '495. roll': 5, '496. roll': 5, '497. roll': 2, '498. roll': 1, '499. roll': 4, '500. roll': 2, '501. roll': 2, '502. roll': 5, '503. roll': 6, '504. roll': 4, '505. roll': 5, '506. roll': 1, '507. roll': 1, '508. roll': 3, '509. roll': 6, '510. roll': 5, '511. roll': 4, '512. roll': 6, '513. roll': 6, '514. roll': 1, '515. roll': 5, '516. roll': 1, '517. roll': 6, '518. roll': 6, '519. roll': 5, '520. roll': 6, '521. roll': 4, '522. roll': 5, '523. roll': 3, '524. roll': 1, '525. roll': 4, '526. roll': 3, '527. roll': 1, '528. roll': 6, '529. roll': 1, '530. roll': 4, '531. roll': 2, '532. roll': 2, '533. roll': 2, '534. roll': 2, '535. roll': 5, '536. roll': 6, '537. roll': 2, '538. roll': 4, '539. roll': 2, '540. roll': 2, '541. roll': 1, '542. roll': 2, '543. roll': 2, '544. roll': 4, '545. roll': 1, '546. roll': 2, '547. roll': 1, '548. roll': 5, '549. roll': 4, '550. roll': 1, '551. roll': 2, '552. roll': 1, '553. roll': 3, '554. roll': 2, '555. roll': 6, '556. roll': 5, '557. roll': 6, '558. roll': 2, '559. roll': 6, '560. roll': 4, '561. roll': 6, '562. roll': 1, '563. roll': 1, '564. roll': 1, '565. roll': 6, '566. roll': 3, '567. roll': 3, '568. roll': 5, '569. roll': 1, '570. roll': 3, '571. roll': 4, '572. roll': 6, '573. roll': 4, '574. roll': 5, '575. roll': 1, '576. roll': 6, '577. roll': 5, '578. roll': 5, '579. roll': 2, '580. roll': 2, '581. roll': 6, '582. roll': 6, '583. roll': 5, '584. roll': 3, '585. roll': 3, '586. roll': 4, '587. roll': 2, '588. roll': 3, '589. roll': 5, '590. roll': 6, '591. roll': 6, '592. roll': 1, '593. roll': 3, '594. roll': 5, '595. roll': 4, '596. roll': 1, '597. roll': 5, '598. roll': 2, '599. roll': 2, '600. roll': 6, '601. roll': 3, '602. roll': 1, '603. roll': 6, '604. roll': 5, '605. roll': 3, '606. roll': 4, '607. roll': 6, '608. roll': 5, '609. roll': 2, '610. roll': 3, '611. roll': 3, '612. roll': 4, '613. roll': 6, '614. roll': 1, '615. roll': 4, '616. roll': 6, '617. roll': 2, '618. roll': 6, '619. roll': 6, '620. roll': 1, '621. roll': 4, '622. roll': 2, '623. roll': 4, '624. roll': 2, '625. roll': 5, '626. roll': 1, '627. roll': 1, '628. roll': 2, '629. roll': 4, '630. roll': 5, '631. roll': 5, '632. roll': 3, '633. roll': 5, '634. roll': 3, '635. roll': 3, '636. roll': 4, '637. roll': 1, '638. roll': 5, '639. roll': 4, '640. roll': 6, '641. roll': 4, '642. roll': 1, '643. roll': 6, '644. roll': 5, '645. roll': 3, '646. roll': 2, '647. roll': 6, '648. roll': 5, '649. roll': 5, '650. roll': 1, '651. roll': 3, '652. roll': 6, '653. roll': 5, '654. roll': 4, '655. roll': 3, '656. roll': 4, '657. roll': 3, '658. roll': 3, '659. roll': 6, '660. roll': 4, '661. roll': 3, '662. roll': 2, '663. roll': 1, '664. roll': 1, '665. roll': 5, '666. roll': 1, '667. roll': 4, '668. roll': 4, '669. roll': 3, '670. roll': 5, '671. roll': 4, '672. roll': 5, '673. roll': 1, '674. roll': 1, '675. roll': 3, '676. roll': 3, '677. roll': 1, '678. roll': 1, '679. roll': 5, '680. roll': 4, '681. roll': 2, '682. roll': 6, '683. roll': 5, '684. roll': 5, '685. roll': 5, '686. roll': 3, '687. roll': 3, '688. roll': 2, '689. roll': 4, '690. roll': 1, '691. roll': 1, '692. roll': 2, '693. roll': 1, '694. roll': 2, '695. roll': 2, '696. roll': 5, '697. roll': 3, '698. roll': 6, '699. roll': 3, '700. roll': 1, '701. roll': 6, '702. roll': 3, '703. roll': 2, '704. roll': 1, '705. roll': 2, '706. roll': 3, '707. roll': 1, '708. roll': 4, '709. roll': 1, '710. roll': 2, '711. roll': 6, '712. roll': 6, '713. roll': 3, '714. roll': 2, '715. roll': 2, '716. roll': 4, '717. roll': 6, '718. roll': 1, '719. roll': 3, '720. roll': 1, '721. roll': 1, '722. roll': 3, '723. roll': 3, '724. roll': 4, '725. roll': 1, '726. roll': 2, '727. roll': 3, '728. roll': 4, '729. roll': 3, '730. roll': 3, '731. roll': 5, '732. roll': 5, '733. roll': 2, '734. roll': 3, '735. roll': 6, '736. roll': 3, '737. roll': 6, '738. roll': 3, '739. roll': 4, '740. roll': 2, '741. roll': 6, '742. roll': 2, '743. roll': 1, '744. roll': 5, '745. roll': 5, '746. roll': 3, '747. roll': 2, '748. roll': 1, '749. roll': 6, '750. roll': 6, '751. roll': 6, '752. roll': 6, '753. roll': 3, '754. roll': 6, '755. roll': 5, '756. roll': 6, '757. roll': 4, '758. roll': 2, '759. roll': 3, '760. roll': 4, '761. roll': 4, '762. roll': 2, '763. roll': 1, '764. roll': 5, '765. roll': 2, '766. roll': 3, '767. roll': 4, '768. roll': 5, '769. roll': 3, '770. roll': 1, '771. roll': 6, '772. roll': 3, '773. roll': 2, '774. roll': 2, '775. roll': 3, '776. roll': 4, '777. roll': 6, '778. roll': 6, '779. roll': 3, '780. roll': 1, '781. roll': 4, '782. roll': 5, '783. roll': 1, '784. roll': 2, '785. roll': 2, '786. roll': 6, '787. roll': 1, '788. roll': 5, '789. roll': 1, '790. roll': 6, '791. roll': 5, '792. roll': 4, '793. roll': 6, '794. roll': 6, '795. roll': 3, '796. roll': 1, '797. roll': 6, '798. roll': 4, '799. roll': 3, '800. roll': 4, '801. roll': 5, '802. roll': 4, '803. roll': 6, '804. roll': 2, '805. roll': 1, '806. roll': 6, '807. roll': 6, '808. roll': 2, '809. roll': 4, '810. roll': 5, '811. roll': 3, '812. roll': 5, '813. roll': 3, '814. roll': 4, '815. roll': 1, '816. roll': 4, '817. roll': 1, '818. roll': 2, '819. roll': 2, '820. roll': 6, '821. roll': 6, '822. roll': 3, '823. roll': 6, '824. roll': 2, '825. roll': 2, '826. roll': 5, '827. roll': 2, '828. roll': 1, '829. roll': 2, '830. roll': 1, '831. roll': 6, '832. roll': 3, '833. roll': 1, '834. roll': 4, '835. roll': 4, '836. roll': 4, '837. roll': 1, '838. roll': 6, '839. roll': 2, '840. roll': 2, '841. roll': 3, '842. roll': 1, '843. roll': 2, '844. roll': 2, '845. roll': 3, '846. roll': 6, '847. roll': 1, '848. roll': 5, '849. roll': 6, '850. roll': 2, '851. roll': 4, '852. roll': 1, '853. roll': 5, '854. roll': 2, '855. roll': 2, '856. roll': 3, '857. roll': 5, '858. roll': 2, '859. roll': 6, '860. roll': 3, '861. roll': 1, '862. roll': 3, '863. roll': 4, '864. roll': 2, '865. roll': 5, '866. roll': 6, '867. roll': 5, '868. roll': 5, '869. roll': 5, '870. roll': 3, '871. roll': 4, '872. roll': 2, '873. roll': 2, '874. roll': 6, '875. roll': 3, '876. roll': 5, '877. roll': 6, '878. roll': 3, '879. roll': 5, '880. roll': 3, '881. roll': 4, '882. roll': 1, '883. roll': 4, '884. roll': 5, '885. roll': 2, '886. roll': 5, '887. roll': 4, '888. roll': 1, '889. roll': 4, '890. roll': 2, '891. roll': 3, '892. roll': 1, '893. roll': 4, '894. roll': 3, '895. roll': 4, '896. roll': 3, '897. roll': 1, '898. roll': 2, '899. roll': 6, '900. roll': 3, '901. roll': 6, '902. roll': 6, '903. roll': 3, '904. roll': 2, '905. roll': 2, '906. roll': 2, '907. roll': 4, '908. roll': 5, '909. roll': 3, '910. roll': 1, '911. roll': 2, '912. roll': 5, '913. roll': 4, '914. roll': 5, '915. roll': 5, '916. roll': 5, '917. roll': 2, '918. roll': 2, '919. roll': 5, '920. roll': 1, '921. roll': 6, '922. roll': 2, '923. roll': 4, '924. roll': 3, '925. roll': 6, '926. roll': 2, '927. roll': 6, '928. roll': 5, '929. roll': 2, '930. roll': 3, '931. roll': 1, '932. roll': 3, '933. roll': 5, '934. roll': 5, '935. roll': 4, '936. roll': 4, '937. roll': 6, '938. roll': 4, '939. roll': 2, '940. roll': 4, '941. roll': 4, '942. roll': 6, '943. roll': 2, '944. roll': 1, '945. roll': 2, '946. roll': 2, '947. roll': 4, '948. roll': 6, '949. roll': 2, '950. roll': 4, '951. roll': 2, '952. roll': 5, '953. roll': 2, '954. roll': 6, '955. roll': 4, '956. roll': 2, '957. roll': 2, '958. roll': 6, '959. roll': 4, '960. roll': 1, '961. roll': 4, '962. roll': 5, '963. roll': 3, '964. roll': 4, '965. roll': 2, '966. roll': 5, '967. roll': 5, '968. roll': 2, '969. roll': 6, '970. roll': 2, '971. roll': 1, '972. roll': 2, '973. roll': 6, '974. roll': 1, '975. roll': 2, '976. roll': 2, '977. roll': 5, '978. roll': 4, '979. roll': 5, '980. roll': 6, '981. roll': 5, '982. roll': 6, '983. roll': 1, '984. roll': 1, '985. roll': 6, '986. roll': 4, '987. roll': 5, '988. roll': 5, '989. roll': 2, '990. roll': 5, '991. roll': 3, '992. roll': 2, '993. roll': 4, '994. roll': 6, '995. roll': 4, '996. roll': 2, '997. roll': 1, '998. roll': 2, '999. roll': 2, '1000. roll': 3}\n"
     ]
    }
   ],
   "source": [
    "from random import randint as dice\n",
    "mydictionary2 = {\"value\": 0}\n",
    "i = 0\n",
    "# call dice(1,6) to get a random number between 1 and 6 (inclusive)\n",
    "for i in range (0, 1000):\n",
    "    x = dice(1,6)\n",
    "    \n",
    "    mydictionary2[str(i + 1) + \". roll\"] = x\n",
    "    i += 1\n",
    "print(mydictionary2)\n"
   ]
  },
  {
   "cell_type": "markdown",
   "metadata": {},
   "source": [
    "#### 3. Do you want to play Rock, Paper, Scissors?"
   ]
  },
  {
   "cell_type": "markdown",
   "metadata": {},
   "source": [
    "Make a Rock-Paper-Scissors game against your computer. (Hint: Ask for player choice (using input, https://www.w3schools.com/python/ref_func_input.asp), let the computer choose a random element from the 3 possible plays (https://docs.python.org/3/library/random.html), compare the two choices, print out a message of congratulations to the winner)\n",
    "\n",
    "Remember the rules:\n",
    "\n",
    "Rock beats scissors <br>\n",
    "Scissors beats paper  <br>\n",
    "Paper beats rock <br>"
   ]
  },
  {
   "cell_type": "code",
   "execution_count": 9,
   "metadata": {},
   "outputs": [
    {
     "name": "stdout",
     "output_type": "stream",
     "text": [
      "Your choice: rock\n",
      " Computer's choice: rock\n",
      "Tie situation, both, computer and you selected the same item rock\n",
      "game terminated!\n"
     ]
    }
   ],
   "source": [
    "import random #to select a random element from the list \n",
    "from random import choice\n",
    "replay = \"yes\"\n",
    "\n",
    "\n",
    "#inser your code here\n",
    "while replay == \"yes\":\n",
    "    user_action = input(\"Enter a choice from: (rock, paper, scissors): \")\n",
    "    possible_actions = [\"rock\", \"paper\", \"scissors\"]\n",
    "    computer_action = random.choice(possible_actions)\n",
    "    print(\"Your choice: \" + user_action + \"\\n Computer's choice: \" + computer_action)\n",
    "    if user_action == computer_action:\n",
    "        print(\"Tie situation, both, computer and you selected the same item \" + user_action)\n",
    "    elif user_action == \"rock\":\n",
    "        if computer_action == \"scissors\":\n",
    "            print(\"\\nYou won, because computer lost by selecting scissors\")\n",
    "        else:\n",
    "            print(\"\\nComputer won, his choice was paper\")\n",
    "    elif user_action == \"scissors\":\n",
    "        if computer_action == \"paper\":\n",
    "            print(\"\\nYou won, computer selected paper\")\n",
    "        else: \n",
    "            print(\"\\nYou lost, computer selected rock\")\n",
    "    elif user_action == \"paper\":\n",
    "        if computer_action == \"rock\":\n",
    "            print(\"\\nYou won, computer selected rock\")\n",
    "        else:\n",
    "            print(\"\\nYou lost, computer selected scissors\") \n",
    "\n",
    "    replay = input(\"Wanna replay? (yes or no)\")\n",
    "    if replay == \"no\":\n",
    "        break\n",
    "print(\"game terminated!\")    \n"
   ]
  },
  {
   "cell_type": "code",
   "execution_count": null,
   "metadata": {},
   "outputs": [],
   "source": []
  }
 ],
 "metadata": {
  "kernelspec": {
   "display_name": "Python 3",
   "language": "python",
   "name": "python3"
  },
  "language_info": {
   "codemirror_mode": {
    "name": "ipython",
    "version": 3
   },
   "file_extension": ".py",
   "mimetype": "text/x-python",
   "name": "python",
   "nbconvert_exporter": "python",
   "pygments_lexer": "ipython3",
   "version": "3.11.5"
  }
 },
 "nbformat": 4,
 "nbformat_minor": 4
}
